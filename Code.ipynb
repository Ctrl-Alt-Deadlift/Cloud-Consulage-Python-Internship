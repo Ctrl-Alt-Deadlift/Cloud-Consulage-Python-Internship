{
 "cells": [
  {
   "cell_type": "markdown",
   "id": "7358806c",
   "metadata": {},
   "source": [
    "### Q1\n",
    "Import required libraries and load the Excel dataset."
   ]
  },
  {
   "cell_type": "code",
   "execution_count": null,
   "id": "d28ef3a1",
   "metadata": {},
   "outputs": [],
   "source": [
    "import pandas as pd\n",
    "import seaborn as sns\n",
    "import matplotlib.pyplot as plt\n",
    "import numpy as np\n",
    "\n",
    "student_df = pd.read_excel('/content/Python Data.xlsx')"
   ]
  },
  {
   "cell_type": "markdown",
   "id": "f1b8f1c7",
   "metadata": {},
   "source": [
    "### Q2\n",
    "Count the number of unique students based on first name."
   ]
  },
  {
   "cell_type": "code",
   "execution_count": null,
   "id": "b4904803",
   "metadata": {},
   "outputs": [],
   "source": [
    "num_unique_students = student_df['First Name'].nunique()\n",
    "print(\"Unique student count:\", num_unique_students)"
   ]
  },
  {
   "cell_type": "markdown",
   "id": "f5218321",
   "metadata": {},
   "source": [
    "### Q3\n",
    "Calculate and display the average CGPA of students."
   ]
  },
  {
   "cell_type": "code",
   "execution_count": null,
   "id": "5e59b553",
   "metadata": {},
   "outputs": [],
   "source": [
    "mean_cgpa = student_df['CGPA'].mean()\n",
    "print(\"Mean CGPA of students:\", round(mean_cgpa, 2))"
   ]
  },
  {
   "cell_type": "markdown",
   "id": "0990d2aa",
   "metadata": {},
   "source": [
    "### Q4\n",
    "Plot the distribution of students across graduation years."
   ]
  },
  {
   "cell_type": "code",
   "execution_count": null,
   "id": "72fa7e59",
   "metadata": {},
   "outputs": [],
   "source": [
    "student_df['Year of Graduation'].value_counts().sort_index().plot(kind='bar', color='lightgreen')\n",
    "plt.title(\"Graduation Year Distribution\")\n",
    "plt.xlabel(\"Graduation Year\")\n",
    "plt.ylabel(\"Student Count\")\n",
    "plt.show()"
   ]
  },
  {
   "cell_type": "markdown",
   "id": "93a2e41a",
   "metadata": {},
   "source": [
    "### Q5\n",
    "Plot the distribution of Python experience in months."
   ]
  },
  {
   "cell_type": "code",
   "execution_count": null,
   "id": "3dcfa47c",
   "metadata": {},
   "outputs": [],
   "source": [
    "sns.histplot(student_df['Experience with python (Months)'], bins=10, kde=True, color='teal')\n",
    "plt.title(\"Python Experience Distribution (Months)\")\n",
    "plt.xlabel(\"Months of Experience\")\n",
    "plt.ylabel(\"Count\")\n",
    "plt.show()"
   ]
  },
  {
   "cell_type": "markdown",
   "id": "8cf47ef6",
   "metadata": {},
   "source": [
    "### Q6\n",
    "Map family income ranges to numeric values and compute mean income."
   ]
  },
  {
   "cell_type": "code",
   "execution_count": null,
   "id": "d7f243fd",
   "metadata": {},
   "outputs": [],
   "source": [
    "income_mapping = {\n",
    "    '0-2 Lakh': 1,\n",
    "    '2-5 Lakh': 3.5,\n",
    "    '5-7 Lakh': 6,\n",
    "    '7 Lakh+': 8\n",
    "}\n",
    "\n",
    "student_df['Family Income Numeric'] = student_df['Family Income'].map(income_mapping)\n",
    "\n",
    "avg_family_income = student_df['Family Income Numeric'].mean()\n",
    "print(\"Mean Family Income (Lakhs):\", round(avg_family_income, 2))"
   ]
  },
  {
   "cell_type": "markdown",
   "id": "1e40f512",
   "metadata": {},
   "source": [
    "### Q7\n",
    "Plot top 5 colleges by average CGPA."
   ]
  },
  {
   "cell_type": "code",
   "execution_count": null,
   "id": "45451939",
   "metadata": {},
   "outputs": [],
   "source": [
    "student_df.groupby('College Name')['CGPA'].mean().sort_values(ascending=False).head(5).plot(kind='bar', color='navy')\n",
    "plt.title(\"Top 5 Colleges by Avg CGPA\")\n",
    "plt.ylabel(\"Avg CGPA\")\n",
    "plt.show()"
   ]
  },
  {
   "cell_type": "markdown",
   "id": "520be104",
   "metadata": {},
   "source": [
    "### Q8\n",
    "Show outliers in quantity by attendee status using boxplot."
   ]
  },
  {
   "cell_type": "code",
   "execution_count": null,
   "id": "745cec82",
   "metadata": {},
   "outputs": [],
   "source": [
    "sns.boxplot(data=student_df[['Attendee Status', 'Quantity']])\n",
    "plt.title(\"Attendee Status vs Quantity Outliers\")\n",
    "plt.show()"
   ]
  },
  {
   "cell_type": "markdown",
   "id": "958db30a",
   "metadata": {},
   "source": [
    "### Q9\n",
    "Plot average CGPA by city."
   ]
  },
  {
   "cell_type": "code",
   "execution_count": null,
   "id": "208463b4",
   "metadata": {},
   "outputs": [],
   "source": [
    "student_df.groupby('City')['CGPA'].mean().sort_values(ascending=False).plot(kind='bar', color='darkcyan')\n",
    "plt.title(\"City-wise Average CGPA\")\n",
    "plt.ylabel(\"Avg CGPA\")\n",
    "plt.xticks(rotation=45)\n",
    "plt.show()"
   ]
  },
  {
   "cell_type": "markdown",
   "id": "34ebeafd",
   "metadata": {},
   "source": [
    "### Q10\n",
    "Scatter plot: family income vs CGPA and correlation value."
   ]
  },
  {
   "cell_type": "code",
   "execution_count": null,
   "id": "bd7c439b",
   "metadata": {},
   "outputs": [],
   "source": [
    "sns.scatterplot(data=student_df, x='Family Income Numeric', y='CGPA')\n",
    "plt.title(\"CGPA vs Family Income\")\n",
    "plt.xlabel(\"Family Income (Lakhs)\")\n",
    "plt.ylabel(\"CGPA\")\n",
    "plt.show()\n",
    "\n",
    "income_cgpa_corr = student_df['Family Income Numeric'].corr(student_df['CGPA'])\n",
    "print(\"Correlation (Family Income & CGPA):\", round(income_cgpa_corr, 2))"
   ]
  },
  {
   "cell_type": "markdown",
   "id": "ee92526c",
   "metadata": {},
   "source": [
    "### Q11\n",
    "Pairplot to study relationships between CGPA, income, Python experience and expected salary."
   ]
  },
  {
   "cell_type": "code",
   "execution_count": null,
   "id": "324303b9",
   "metadata": {},
   "outputs": [],
   "source": [
    "sns.pairplot(student_df, vars=['CGPA', 'Family Income Numeric', 'Experience with python (Months)', 'Expected salary (Lac)'])\n",
    "plt.suptitle(\"Pairwise Relationships with Salary\", y=1.02)\n",
    "plt.show()"
   ]
  },
  {
   "cell_type": "markdown",
   "id": "9e155475",
   "metadata": {},
   "source": [
    "### Q12\n",
    "Find most popular event by designation."
   ]
  },
  {
   "cell_type": "code",
   "execution_count": null,
   "id": "594ac56d",
   "metadata": {},
   "outputs": [],
   "source": [
    "student_df.groupby(['Designation', 'Events']).size().unstack().fillna(0).idxmax(axis=1)"
   ]
  },
  {
   "cell_type": "markdown",
   "id": "15acc87f",
   "metadata": {},
   "source": [
    "### Q13\n",
    "Average CGPA and expected salary grouped by leadership skill."
   ]
  },
  {
   "cell_type": "code",
   "execution_count": null,
   "id": "8d8c967a",
   "metadata": {},
   "outputs": [],
   "source": [
    "student_df.groupby('Leadership- skills')[['CGPA', 'Expected salary (Lac)']].mean()"
   ]
  },
  {
   "cell_type": "markdown",
   "id": "c7e35ae4",
   "metadata": {},
   "source": [
    "### Q14\n",
    "Correlation between leadership skill and expected salary."
   ]
  },
  {
   "cell_type": "code",
   "execution_count": null,
   "id": "bc80817b",
   "metadata": {},
   "outputs": [],
   "source": [
    "student_df['Leadership_Flag'] = student_df['Leadership- skills'].apply(lambda x: 1 if str(x).strip().lower() == 'yes' else 0)\n",
    "lead_corr = student_df['Leadership_Flag'].corr(student_df['Expected salary (Lac)'])\n",
    "print(\"Leadership vs Salary Correlation:\", round(lead_corr, 2))"
   ]
  },
  {
   "cell_type": "markdown",
   "id": "bdfe4b4d",
   "metadata": {},
   "source": [
    "### Q15\n",
    "Count students graduating by end of 2024."
   ]
  },
  {
   "cell_type": "code",
   "execution_count": null,
   "id": "fb215483",
   "metadata": {},
   "outputs": [],
   "source": [
    "grad_2024 = student_df[student_df['Year of Graduation'] <= 2024]\n",
    "print(\"Students graduating by 2024 end:\", grad_2024.shape[0])"
   ]
  },
  {
   "cell_type": "markdown",
   "id": "888f046f",
   "metadata": {},
   "source": [
    "### Q16\n",
    "Value counts of event awareness source."
   ]
  },
  {
   "cell_type": "code",
   "execution_count": null,
   "id": "4dd36167",
   "metadata": {},
   "outputs": [],
   "source": [
    "student_df['How did you come to know about this event?'].value_counts()"
   ]
  },
  {
   "cell_type": "markdown",
   "id": "300879af",
   "metadata": {},
   "source": [
    "### Q17\n",
    "Count students who participated in data science events."
   ]
  },
  {
   "cell_type": "code",
   "execution_count": null,
   "id": "fa48433d",
   "metadata": {},
   "outputs": [],
   "source": [
    "ds_participants = student_df[student_df['Events'].str.contains('data science', case=False, na=False)]\n",
    "print(\"Data Science event participants:\", ds_participants.shape[0])"
   ]
  },
  {
   "cell_type": "markdown",
   "id": "5b04109a",
   "metadata": {},
   "source": [
    "### Q18\n",
    "Average expected salary for students with high CGPA and Python experience."
   ]
  },
  {
   "cell_type": "code",
   "execution_count": null,
   "id": "790a7ef4",
   "metadata": {},
   "outputs": [],
   "source": [
    "cgpa_above_avg = student_df['CGPA'] > student_df['CGPA'].mean()\n",
    "exp_above_avg = student_df['Experience with python (Months)'] > student_df['Experience with python (Months)'].mean()\n",
    "\n",
    "qualified_students = student_df[cgpa_above_avg & exp_above_avg]\n",
    "avg_exp_salary = qualified_students['Expected salary (Lac)'].mean()\n",
    "print(\"Avg expected salary (high CGPA + Python exp):\", round(avg_exp_salary, 2))"
   ]
  },
  {
   "cell_type": "markdown",
   "id": "6632334e",
   "metadata": {},
   "source": [
    "### Q19\n",
    "Top 5 colleges where students came to know about the event via college."
   ]
  },
  {
   "cell_type": "code",
   "execution_count": null,
   "id": "95224fd2",
   "metadata": {},
   "outputs": [],
   "source": [
    "college_ref_df = student_df[student_df['How did you come to know about this event?'].str.contains('college', case=False, na=False)]\n",
    "top_5_colleges = college_ref_df['College Name'].value_counts().head(5)\n",
    "print(top_5_colleges)"
   ]
  }
 ],
 "metadata": {},
 "nbformat": 4,
 "nbformat_minor": 5
}